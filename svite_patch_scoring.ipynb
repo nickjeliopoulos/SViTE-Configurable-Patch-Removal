{
 "cells": [
  {
   "attachments": {},
   "cell_type": "markdown",
   "metadata": {},
   "source": [
    "# Inspected code from SViTE/vision_transformer.py around line 291\n",
    "# Note that vit.gumbel() is a Linear layer that projects the patch embeddings into a scalar quantity (it is learned)"
   ]
  },
  {
   "cell_type": "code",
   "execution_count": 5,
   "metadata": {},
   "outputs": [],
   "source": [
    "import torch\n",
    "import torch.nn\n",
    "import torch.nn.functional as F\n",
    "import torchvision\n",
    "from SViTE import vision_transformer\n",
    "from SViTE.vision_transformer import gumbel_softmax"
   ]
  },
  {
   "cell_type": "code",
   "execution_count": 6,
   "metadata": {},
   "outputs": [],
   "source": [
    "### Copied + Modified from SViTE/vision_transformer.forward_features(...)\n",
    "def vit_debug_forward_features(vit, x, tau=-1, number=197):\n",
    "    l1_list = []\n",
    "    B = x.shape[0]\n",
    "    x = vit.patch_embed(x)\n",
    "\n",
    "    cls_tokens = vit.cls_token.expand(B, -1, -1)  # stole cls_tokens impl from Phil Wang, thanks\n",
    "    x = torch.cat((cls_tokens, x), dim=1)\n",
    "    x = x + vit.pos_embed\n",
    "    x = vit.pos_drop(x) # [Batch, token, dim]\n",
    "\n",
    "    if tau > 0:\n",
    "        emb_dim = x.shape[2]\n",
    "        token_number = x.shape[1]\n",
    "        token_scores = vit.gumbel(x)\n",
    "        token_scores = token_scores.reshape(B, -1)\n",
    "        token_mask = gumbel_softmax(F.log_softmax(token_scores, dim=-1), k=number, tau=tau, hard=True)\n",
    "        print(\"Post Gumbel-Softmax token_mask.shape: {}\".format(token_mask.shape))\n",
    "        token_mask[:,0] = 1.\n",
    "        token_mask = token_mask.expand(emb_dim,-1,-1)\n",
    "        print(\"Post torch.expand(emb_dim,-1,-1) token_mask.shape: {}\".format(token_mask.shape))\n",
    "        token_mask = token_mask.permute(1,2,0)\n",
    "        print(\"Post torch.permute(1,2,0) token_mask.shape: {}\".format(token_mask.shape))\n",
    "\n",
    "        ### Is this true masking??? I'm not quite sure it is\n",
    "        ### This looks like elementwise multiplication\n",
    "        x = x * token_mask \n",
    "        print(\"Post elementwise mult x.shape: {}\".format(x.shape))\n",
    "\n",
    "    for blk in vit.blocks:\n",
    "        x, l1 = blk(x)\n",
    "        l1_list.append(l1)\n",
    "\n",
    "    x = vit.norm(x)\n",
    "    print(\"Post norm x.shape: {}\".format(x.shape))\n",
    "    return x[:, 0], l1_list"
   ]
  },
  {
   "cell_type": "code",
   "execution_count": 7,
   "metadata": {},
   "outputs": [],
   "source": [
    "### Emulate the forward_features(...) layer from SViTE/vision_transformer with a dummy network and dummy variables\n",
    "device = torch.device('cuda:0')\n",
    "model = vision_transformer.VisionTransformer()\n",
    "model.to(device)\n",
    "### (batch, channels, width, height)\n",
    "input_image = torch.rand(1,3,224,224).to(device)"
   ]
  },
  {
   "cell_type": "code",
   "execution_count": 8,
   "metadata": {},
   "outputs": [
    {
     "name": "stdout",
     "output_type": "stream",
     "text": [
      "x post patch_embed shape: torch.Size([1, 196, 768])\n",
      "x post pos_drop, cls token, and pos_embed shape: torch.Size([1, 197, 768])\n",
      "embedding dim size: 768\n",
      "patch count: 197\n",
      "patch score shape: torch.Size([1, 197])\n",
      "gumbel_softmax params (tau, hard, k) : (1.0, True, 100)\n",
      "y_soft.shape: torch.Size([1, 197])\n",
      "index.shape: torch.Size([1, 100])\n",
      "y_hard.shape: torch.Size([1, 197])\n",
      "gumbel_softmax(...) return value shape: torch.Size([1, 197])\n",
      "patch mask shape: torch.Size([1, 197])\n",
      "patch mask shape post-expand: torch.Size([1, 197, 768])\n",
      "elementwise patch mask and patch embedding multiply shape: torch.Size([1, 197, 768])\n",
      "x output shape: torch.Size([1, 768])\n",
      "Post forward_features.shape: torch.Size([1, 768])\n",
      "Output shape: torch.Size([1, 1000])\n"
     ]
    }
   ],
   "source": [
    "#x, l1_list = vit_debug_forward_features(model, input_image, tau=1.0, number=100)\n",
    "x, l1_list = model.forward_features(input_image, tau=1.0, number=100)\n",
    "print(\"Post forward_features.shape: {}\".format(x.shape))\n",
    "x = model.head(x)\n",
    "print(\"Output shape: {}\".format(x.shape))"
   ]
  }
 ],
 "metadata": {
  "kernelspec": {
   "display_name": "irrelevantpixel",
   "language": "python",
   "name": "python3"
  },
  "language_info": {
   "codemirror_mode": {
    "name": "ipython",
    "version": 3
   },
   "file_extension": ".py",
   "mimetype": "text/x-python",
   "name": "python",
   "nbconvert_exporter": "python",
   "pygments_lexer": "ipython3",
   "version": "3.9.12"
  },
  "orig_nbformat": 4,
  "vscode": {
   "interpreter": {
    "hash": "8884c7b64130cbf1f6dbce93e373b779531884a654dcc4eb721b63871e67762b"
   }
  }
 },
 "nbformat": 4,
 "nbformat_minor": 2
}
